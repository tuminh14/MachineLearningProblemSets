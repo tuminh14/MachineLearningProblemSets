{
  "nbformat": 4,
  "nbformat_minor": 0,
  "metadata": {
    "colab": {
      "name": "Copy of Assignment_3_EDA.ipynb",
      "version": "0.3.2",
      "provenance": [],
      "collapsed_sections": []
    },
    "language_info": {
      "codemirror_mode": {
        "name": "ipython",
        "version": 3
      },
      "file_extension": ".py",
      "mimetype": "text/x-python",
      "name": "python",
      "nbconvert_exporter": "python",
      "pygments_lexer": "ipython3",
      "version": "3.6.5"
    },
    "kernelspec": {
      "display_name": "Python 3",
      "language": "python",
      "name": "python3"
    }
  },
  "cells": [
    {
      "cell_type": "markdown",
      "metadata": {
        "id": "x7fdTGs4SnyS",
        "colab_type": "text"
      },
      "source": [
        "![](https://i.imgur.com/0AUxkXt.png)"
      ]
    },
    {
      "cell_type": "markdown",
      "metadata": {
        "id": "_uqy69P0Pm0L",
        "colab_type": "text"
      },
      "source": [
        "# Assignment 3 - From data to insights\n",
        "\n",
        "Before you explore the data, write down a short list of what you expect to see in the data: the distribution of key variables, the relationships between important pairs of them, and so on. Such a list is essentially a prediction based on your current understanding of the business.\n",
        "\n",
        "Now analyze the data. Make plots, do summaries, whatever is needed to see if it matches your expectations.\n",
        "\n",
        "Is there anything that doesn’t match? Anything that makes you go “That’s odd” or “That doesn’t make any sense.”?\n",
        "\n",
        "Zoom in and try to understand what in your business is making that weird thing show up in the data like that. This is the critical step.\n",
        "\n",
        "You may have just found an insight into the business and increased your understanding\n",
        "\n",
        "\n",
        "## The data analysis checklist\n",
        "\n",
        "This checklist can be used as a guide during the process of a data analysis, or as a way to evaluate the quality of a reported data analysis.\n",
        "\n",
        "### Answering the first questions\n",
        "\n",
        "1. Did you define the metric for success before beginning?\n",
        "2. Did you understand the context for the question and business application?\n",
        "3. Did you consider whether the question could be answered with the available data?\n",
        "\n",
        "### Cleaning the data\n",
        "\n",
        "1. Did you identify the missing data?\n",
        "2. Is each variable one column?\n",
        "3. Do different data types appear in each table?\n",
        "4. Did you try to identify any errors or miscoding of variables?\n",
        "5. Did you check for outliers?\n",
        "\n",
        "### Exploratory analysis\n",
        "\n",
        "1. Did you make univariate plots (histogram, distplot, boxplot)?\n",
        "2. Did you consider correlations between variables (scatterplot, jointplot, kde plot, correlation matrix)?\n",
        "3. Did you check the units of all data points to make sure they are in the right range?\n",
        "\n",
        "### Presentations\n",
        "\n",
        "1. Did you lead with a brief, understandable to everyone of your problem?\n",
        "2. Did you explain the data, describe the question of interest?\n",
        "3. Did you make sure all legends and axes were legible from the back of the room?"
      ]
    },
    {
      "cell_type": "markdown",
      "metadata": {
        "id": "ZBc0glanPm0M",
        "colab_type": "text"
      },
      "source": [
        "## Dataset - Online Retailes Purchase\n",
        "\n",
        "Typically e-commerce datasets are proprietary and consequently hard to find among publicly available data. However, [The UCI Machine Learning Repository](http://archive.ics.uci.edu/ml/index.php) has made this dataset containing actual transactions from 2010 and 2011. The dataset is maintained on their site, where it can be found by the title \"Online Retail\".\n",
        "\n",
        "\n",
        "### Step 1 - Checking the data\n",
        "\n",
        "**Import tools set**"
      ]
    },
    {
      "cell_type": "code",
      "metadata": {
        "id": "9Cx3LXxfPm0N",
        "colab_type": "code",
        "colab": {}
      },
      "source": [
        "# Your code here\n",
        "import numpy as np\n",
        "import pandas as pd\n",
        "import seaborn as sns\n",
        "import matplotlib.pyplot as plt\n",
        "%matplotlib inline\n",
        "import warnings\n",
        "warnings.filterwarnings('ignore')\n",
        "\n",
        "sns.set_style(\"whitegrid\")"
      ],
      "execution_count": 0,
      "outputs": []
    },
    {
      "cell_type": "markdown",
      "metadata": {
        "id": "mFTQu0j6Pm0Q",
        "colab_type": "text"
      },
      "source": [
        "**Import data**"
      ]
    },
    {
      "cell_type": "code",
      "metadata": {
        "id": "w0YVchrVPm0R",
        "colab_type": "code",
        "colab": {}
      },
      "source": [
        "# link = \"https://ml101-khanhnguyen.s3-ap-southeast-1.amazonaws.com/devc/Online_Retail.csv\"\n",
        "# Note: set param encoding = 'latin1'\n",
        "# Your code here\n",
        "onlre= pd.read_csv('https://ml101-khanhnguyen.s3-ap-southeast-1.amazonaws.com/devc/Online_Retail.csv', encoding = 'latin1')"
      ],
      "execution_count": 0,
      "outputs": []
    },
    {
      "cell_type": "code",
      "metadata": {
        "id": "V3v8D3pTFrYh",
        "colab_type": "code",
        "outputId": "09141e97-644a-491e-fac8-1d58f79df219",
        "colab": {
          "base_uri": "https://localhost:8080/",
          "height": 195
        }
      },
      "source": [
        "# Print out First 5 rows from dataframe\n",
        "# Your code here\n",
        "onlre.head(5)"
      ],
      "execution_count": 3,
      "outputs": [
        {
          "output_type": "execute_result",
          "data": {
            "text/html": [
              "<div>\n",
              "<style scoped>\n",
              "    .dataframe tbody tr th:only-of-type {\n",
              "        vertical-align: middle;\n",
              "    }\n",
              "\n",
              "    .dataframe tbody tr th {\n",
              "        vertical-align: top;\n",
              "    }\n",
              "\n",
              "    .dataframe thead th {\n",
              "        text-align: right;\n",
              "    }\n",
              "</style>\n",
              "<table border=\"1\" class=\"dataframe\">\n",
              "  <thead>\n",
              "    <tr style=\"text-align: right;\">\n",
              "      <th></th>\n",
              "      <th>InvoiceNo</th>\n",
              "      <th>StockCode</th>\n",
              "      <th>Description</th>\n",
              "      <th>Quantity</th>\n",
              "      <th>InvoiceDate</th>\n",
              "      <th>UnitPrice</th>\n",
              "      <th>CustomerID</th>\n",
              "      <th>Country</th>\n",
              "    </tr>\n",
              "  </thead>\n",
              "  <tbody>\n",
              "    <tr>\n",
              "      <th>0</th>\n",
              "      <td>536365</td>\n",
              "      <td>85123A</td>\n",
              "      <td>WHITE HANGING HEART T-LIGHT HOLDER</td>\n",
              "      <td>6</td>\n",
              "      <td>12/1/10 8:26</td>\n",
              "      <td>2.55</td>\n",
              "      <td>17850.0</td>\n",
              "      <td>United Kingdom</td>\n",
              "    </tr>\n",
              "    <tr>\n",
              "      <th>1</th>\n",
              "      <td>536365</td>\n",
              "      <td>71053</td>\n",
              "      <td>WHITE METAL LANTERN</td>\n",
              "      <td>6</td>\n",
              "      <td>12/1/10 8:26</td>\n",
              "      <td>3.39</td>\n",
              "      <td>17850.0</td>\n",
              "      <td>United Kingdom</td>\n",
              "    </tr>\n",
              "    <tr>\n",
              "      <th>2</th>\n",
              "      <td>536365</td>\n",
              "      <td>84406B</td>\n",
              "      <td>CREAM CUPID HEARTS COAT HANGER</td>\n",
              "      <td>8</td>\n",
              "      <td>12/1/10 8:26</td>\n",
              "      <td>2.75</td>\n",
              "      <td>17850.0</td>\n",
              "      <td>United Kingdom</td>\n",
              "    </tr>\n",
              "    <tr>\n",
              "      <th>3</th>\n",
              "      <td>536365</td>\n",
              "      <td>84029G</td>\n",
              "      <td>KNITTED UNION FLAG HOT WATER BOTTLE</td>\n",
              "      <td>6</td>\n",
              "      <td>12/1/10 8:26</td>\n",
              "      <td>3.39</td>\n",
              "      <td>17850.0</td>\n",
              "      <td>United Kingdom</td>\n",
              "    </tr>\n",
              "    <tr>\n",
              "      <th>4</th>\n",
              "      <td>536365</td>\n",
              "      <td>84029E</td>\n",
              "      <td>RED WOOLLY HOTTIE WHITE HEART.</td>\n",
              "      <td>6</td>\n",
              "      <td>12/1/10 8:26</td>\n",
              "      <td>3.39</td>\n",
              "      <td>17850.0</td>\n",
              "      <td>United Kingdom</td>\n",
              "    </tr>\n",
              "  </tbody>\n",
              "</table>\n",
              "</div>"
            ],
            "text/plain": [
              "  InvoiceNo StockCode  ... CustomerID         Country\n",
              "0    536365    85123A  ...    17850.0  United Kingdom\n",
              "1    536365     71053  ...    17850.0  United Kingdom\n",
              "2    536365    84406B  ...    17850.0  United Kingdom\n",
              "3    536365    84029G  ...    17850.0  United Kingdom\n",
              "4    536365    84029E  ...    17850.0  United Kingdom\n",
              "\n",
              "[5 rows x 8 columns]"
            ]
          },
          "metadata": {
            "tags": []
          },
          "execution_count": 3
        }
      ]
    },
    {
      "cell_type": "code",
      "metadata": {
        "id": "u4Msf54uFy4w",
        "colab_type": "code",
        "outputId": "b59dbada-2fd4-49d7-924d-19eee9e6ef99",
        "colab": {
          "base_uri": "https://localhost:8080/",
          "height": 235
        }
      },
      "source": [
        "# Print out brief info\n",
        "onlre.info()"
      ],
      "execution_count": 4,
      "outputs": [
        {
          "output_type": "stream",
          "text": [
            "<class 'pandas.core.frame.DataFrame'>\n",
            "RangeIndex: 541909 entries, 0 to 541908\n",
            "Data columns (total 8 columns):\n",
            "InvoiceNo      541909 non-null object\n",
            "StockCode      541909 non-null object\n",
            "Description    540455 non-null object\n",
            "Quantity       541909 non-null int64\n",
            "InvoiceDate    541909 non-null object\n",
            "UnitPrice      541909 non-null float64\n",
            "CustomerID     406829 non-null float64\n",
            "Country        541909 non-null object\n",
            "dtypes: float64(2), int64(1), object(5)\n",
            "memory usage: 33.1+ MB\n"
          ],
          "name": "stdout"
        }
      ]
    },
    {
      "cell_type": "markdown",
      "metadata": {
        "id": "wY6yv3UsPm0k",
        "colab_type": "text"
      },
      "source": [
        "### Step 2 - Cleaning the data\n",
        "\n",
        "Few of useful data cleaning functions:\n",
        "\n",
        "* `s.astype('category')` # This will convert the datatype of the series to float *Please note that \"s\" here is a Pandas Series\n",
        "\n",
        "* `s.replace(1,'one')` # This will replace all values equal to 1 with 'one'\n",
        "\n",
        "* `s.replace([1,3],['one','three'])` # This will replace all 1 with 'one' and 3 with 'three'\n",
        "\n",
        "* `data.rename(columns=lambda x: x + 1)` # Mass renaming of columns\n",
        "\n",
        "* `data.rename(columns={'oldname': 'new name'})` # Selective renaming\n",
        "\n",
        "* `data.set_index('column_one')` #  This will change the index\n",
        "\n",
        "* `data.rename(index=lambda x: x + 1)` # Mass renaming of index\n",
        "\n",
        "* `data.dropna()` # Remove missing values\n",
        "\n",
        "* `data.fillna(x)` #  This will replaces all null values with x\n",
        "\n",
        "* `s.fillna(s.mean())` # This will replace all null values with the mean (mean can be replaced with almost any function from the below section) :\n",
        "\n",
        "* `data.corr()` # This will return the correlation between columns in a DataFrame\n",
        "\n",
        "* `data.count()` # This will return the number of non-null values in each DataFrame column\n",
        "\n",
        "* `data.max()` # This will return the highest value in each column\n",
        "\n",
        "* `data.min()` # This will return the lowest value in each column\n",
        "\n",
        "* `data.median()` # This will return the median of each column\n",
        "\n",
        "* `data.std()` # This will returns the standard deviation of each column\n"
      ]
    },
    {
      "cell_type": "markdown",
      "metadata": {
        "id": "rcNsGWarPm06",
        "colab_type": "text"
      },
      "source": [
        "**Check for NaN values**"
      ]
    },
    {
      "cell_type": "code",
      "metadata": {
        "id": "TqLxHGy2Pm06",
        "colab_type": "code",
        "outputId": "039499af-f94c-4ca6-8390-e28671911726",
        "colab": {
          "base_uri": "https://localhost:8080/",
          "height": 168
        }
      },
      "source": [
        "# Your code here\n",
        "onlre.isna().sum()"
      ],
      "execution_count": 5,
      "outputs": [
        {
          "output_type": "execute_result",
          "data": {
            "text/plain": [
              "InvoiceNo           0\n",
              "StockCode           0\n",
              "Description      1454\n",
              "Quantity            0\n",
              "InvoiceDate         0\n",
              "UnitPrice           0\n",
              "CustomerID     135080\n",
              "Country             0\n",
              "dtype: int64"
            ]
          },
          "metadata": {
            "tags": []
          },
          "execution_count": 5
        }
      ]
    },
    {
      "cell_type": "markdown",
      "metadata": {
        "id": "RdhPk_x1Pm0-",
        "colab_type": "text"
      },
      "source": [
        "**Examine few examples of NaN values**"
      ]
    },
    {
      "cell_type": "code",
      "metadata": {
        "id": "3kGYpbdOPm0-",
        "colab_type": "code",
        "outputId": "b7500e04-2137-49a6-a083-3f87b199066f",
        "colab": {
          "base_uri": "https://localhost:8080/",
          "height": 1000
        }
      },
      "source": [
        "# List all NaN values\n",
        "print(onlre[onlre['Description'].isna()])\n",
        "print(onlre[onlre['CustomerID'].isna()])\n"
      ],
      "execution_count": 6,
      "outputs": [
        {
          "output_type": "stream",
          "text": [
            "       InvoiceNo StockCode Description  ...  UnitPrice CustomerID         Country\n",
            "622       536414     22139         NaN  ...        0.0        NaN  United Kingdom\n",
            "1970      536545     21134         NaN  ...        0.0        NaN  United Kingdom\n",
            "1971      536546     22145         NaN  ...        0.0        NaN  United Kingdom\n",
            "1972      536547     37509         NaN  ...        0.0        NaN  United Kingdom\n",
            "1987      536549    85226A         NaN  ...        0.0        NaN  United Kingdom\n",
            "1988      536550     85044         NaN  ...        0.0        NaN  United Kingdom\n",
            "2024      536552     20950         NaN  ...        0.0        NaN  United Kingdom\n",
            "2025      536553     37461         NaN  ...        0.0        NaN  United Kingdom\n",
            "2026      536554     84670         NaN  ...        0.0        NaN  United Kingdom\n",
            "2406      536589     21777         NaN  ...        0.0        NaN  United Kingdom\n",
            "4347      536764    84952C         NaN  ...        0.0        NaN  United Kingdom\n",
            "4348      536765    84952C         NaN  ...        0.0        NaN  United Kingdom\n",
            "7187      536995     35951         NaN  ...        0.0        NaN  United Kingdom\n",
            "7188      536996     22712         NaN  ...        0.0        NaN  United Kingdom\n",
            "7189      536997     22028         NaN  ...        0.0        NaN  United Kingdom\n",
            "7190      536998     85067         NaN  ...        0.0        NaN  United Kingdom\n",
            "7191      536999     21421         NaN  ...        0.0        NaN  United Kingdom\n",
            "7192      537000     21414         NaN  ...        0.0        NaN  United Kingdom\n",
            "7193      537001     21653         NaN  ...        0.0        NaN  United Kingdom\n",
            "7194      537002     21651         NaN  ...        0.0        NaN  United Kingdom\n",
            "7195      537003     85126         NaN  ...        0.0        NaN  United Kingdom\n",
            "7196      537004     21814         NaN  ...        0.0        NaN  United Kingdom\n",
            "7197      537005     21692         NaN  ...        0.0        NaN  United Kingdom\n",
            "7198      537006     21648         NaN  ...        0.0        NaN  United Kingdom\n",
            "7199      537007     21172         NaN  ...        0.0        NaN  United Kingdom\n",
            "7200      537008     21161         NaN  ...        0.0        NaN  United Kingdom\n",
            "7201      537009    84534B         NaN  ...        0.0        NaN  United Kingdom\n",
            "7202      537010     22162         NaN  ...        0.0        NaN  United Kingdom\n",
            "7203      537011     22139         NaN  ...        0.0        NaN  United Kingdom\n",
            "7204      537012     21535         NaN  ...        0.0        NaN  United Kingdom\n",
            "...          ...       ...         ...  ...        ...        ...             ...\n",
            "497632    578431     22579         NaN  ...        0.0        NaN  United Kingdom\n",
            "497677    578456     22579         NaN  ...        0.0        NaN  United Kingdom\n",
            "498597    578529     22087         NaN  ...        0.0        NaN  United Kingdom\n",
            "499156    578628     23541         NaN  ...        0.0        NaN  United Kingdom\n",
            "499157    578629     22943         NaN  ...        0.0        NaN  United Kingdom\n",
            "499169    578632     22579         NaN  ...        0.0        NaN  United Kingdom\n",
            "499787    578693     21811         NaN  ...        0.0        NaN  United Kingdom\n",
            "500161    578738     21638         NaN  ...        0.0        NaN  United Kingdom\n",
            "508796    579272     22812         NaN  ...        0.0        NaN  United Kingdom\n",
            "510622    579460     21110         NaN  ...        0.0        NaN  United Kingdom\n",
            "511451    579500     22810         NaN  ...        0.0        NaN  United Kingdom\n",
            "514205    579688     21116         NaN  ...        0.0        NaN  United Kingdom\n",
            "514287    579691    47503A         NaN  ...        0.0        NaN  United Kingdom\n",
            "514651    579738     21927         NaN  ...        0.0        NaN  United Kingdom\n",
            "516189    579880     22947         NaN  ...        0.0        NaN  United Kingdom\n",
            "517719    580087    84341B         NaN  ...        0.0        NaN  United Kingdom\n",
            "519967    580197     22696         NaN  ...        0.0        NaN  United Kingdom\n",
            "521333    580359     20775         NaN  ...        0.0        NaN  United Kingdom\n",
            "522160    580379    72225C         NaN  ...        0.0        NaN  United Kingdom\n",
            "522162    580381     21758         NaN  ...        0.0        NaN  United Kingdom\n",
            "524473    580580     21804         NaN  ...        0.0        NaN  United Kingdom\n",
            "524475    580588     21808         NaN  ...        0.0        NaN  United Kingdom\n",
            "529667    580743    47591B         NaN  ...        0.0        NaN  United Kingdom\n",
            "533711    581102     21803         NaN  ...        0.0        NaN  United Kingdom\n",
            "533712    581103     22689         NaN  ...        0.0        NaN  United Kingdom\n",
            "535322    581199     84581         NaN  ...        0.0        NaN  United Kingdom\n",
            "535326    581203     23406         NaN  ...        0.0        NaN  United Kingdom\n",
            "535332    581209     21620         NaN  ...        0.0        NaN  United Kingdom\n",
            "536981    581234     72817         NaN  ...        0.0        NaN  United Kingdom\n",
            "538554    581408     85175         NaN  ...        0.0        NaN  United Kingdom\n",
            "\n",
            "[1454 rows x 8 columns]\n",
            "       InvoiceNo StockCode  ... CustomerID         Country\n",
            "622       536414     22139  ...        NaN  United Kingdom\n",
            "1443      536544     21773  ...        NaN  United Kingdom\n",
            "1444      536544     21774  ...        NaN  United Kingdom\n",
            "1445      536544     21786  ...        NaN  United Kingdom\n",
            "1446      536544     21787  ...        NaN  United Kingdom\n",
            "1447      536544     21790  ...        NaN  United Kingdom\n",
            "1448      536544     21791  ...        NaN  United Kingdom\n",
            "1449      536544     21801  ...        NaN  United Kingdom\n",
            "1450      536544     21802  ...        NaN  United Kingdom\n",
            "1451      536544     21803  ...        NaN  United Kingdom\n",
            "1452      536544     21809  ...        NaN  United Kingdom\n",
            "1453      536544     21810  ...        NaN  United Kingdom\n",
            "1454      536544     21811  ...        NaN  United Kingdom\n",
            "1455      536544     21821  ...        NaN  United Kingdom\n",
            "1456      536544     21822  ...        NaN  United Kingdom\n",
            "1457      536544     21823  ...        NaN  United Kingdom\n",
            "1458      536544     21844  ...        NaN  United Kingdom\n",
            "1459      536544     21851  ...        NaN  United Kingdom\n",
            "1460      536544     21870  ...        NaN  United Kingdom\n",
            "1461      536544     21871  ...        NaN  United Kingdom\n",
            "1462      536544     21874  ...        NaN  United Kingdom\n",
            "1463      536544     21879  ...        NaN  United Kingdom\n",
            "1464      536544     21884  ...        NaN  United Kingdom\n",
            "1465      536544     21888  ...        NaN  United Kingdom\n",
            "1466      536544     21889  ...        NaN  United Kingdom\n",
            "1467      536544     21892  ...        NaN  United Kingdom\n",
            "1468      536544     21894  ...        NaN  United Kingdom\n",
            "1469      536544     21911  ...        NaN  United Kingdom\n",
            "1470      536544     21912  ...        NaN  United Kingdom\n",
            "1471      536544     21913  ...        NaN  United Kingdom\n",
            "...          ...       ...  ...        ...             ...\n",
            "541511    581498     71053  ...        NaN  United Kingdom\n",
            "541512    581498    72349b  ...        NaN  United Kingdom\n",
            "541513    581498     79321  ...        NaN  United Kingdom\n",
            "541514    581498    82001s  ...        NaN  United Kingdom\n",
            "541515    581498     82482  ...        NaN  United Kingdom\n",
            "541516    581498     82552  ...        NaN  United Kingdom\n",
            "541517    581498     82580  ...        NaN  United Kingdom\n",
            "541518    581498     82581  ...        NaN  United Kingdom\n",
            "541519    581498     82600  ...        NaN  United Kingdom\n",
            "541520    581498    84029E  ...        NaN  United Kingdom\n",
            "541521    581498    84032A  ...        NaN  United Kingdom\n",
            "541522    581498    84032B  ...        NaN  United Kingdom\n",
            "541523    581498     84375  ...        NaN  United Kingdom\n",
            "541524    581498    84509a  ...        NaN  United Kingdom\n",
            "541525    581498    84558a  ...        NaN  United Kingdom\n",
            "541526    581498     84832  ...        NaN  United Kingdom\n",
            "541527    581498    84968e  ...        NaN  United Kingdom\n",
            "541528    581498    84970s  ...        NaN  United Kingdom\n",
            "541529    581498    84997a  ...        NaN  United Kingdom\n",
            "541530    581498    84997b  ...        NaN  United Kingdom\n",
            "541531    581498    84997d  ...        NaN  United Kingdom\n",
            "541532    581498     85038  ...        NaN  United Kingdom\n",
            "541533    581498     85048  ...        NaN  United Kingdom\n",
            "541534    581498    85049a  ...        NaN  United Kingdom\n",
            "541535    581498    85049e  ...        NaN  United Kingdom\n",
            "541536    581498    85099B  ...        NaN  United Kingdom\n",
            "541537    581498    85099C  ...        NaN  United Kingdom\n",
            "541538    581498     85150  ...        NaN  United Kingdom\n",
            "541539    581498     85174  ...        NaN  United Kingdom\n",
            "541540    581498       DOT  ...        NaN  United Kingdom\n",
            "\n",
            "[135080 rows x 8 columns]\n"
          ],
          "name": "stdout"
        }
      ]
    },
    {
      "cell_type": "markdown",
      "metadata": {
        "id": "OpAhltPeHaLR",
        "colab_type": "text"
      },
      "source": [
        "**Exclude negative Quatity entries**"
      ]
    },
    {
      "cell_type": "code",
      "metadata": {
        "id": "71F-5PY-HZ6T",
        "colab_type": "code",
        "colab": {}
      },
      "source": [
        "onlre = onlre.drop(index=(onlre[onlre['Quantity'] < 0]).index)"
      ],
      "execution_count": 0,
      "outputs": []
    },
    {
      "cell_type": "code",
      "metadata": {
        "id": "pISPJqzUNJEd",
        "colab_type": "code",
        "outputId": "3297f64c-b359-4d73-a249-dee64b064126",
        "colab": {
          "base_uri": "https://localhost:8080/",
          "height": 47
        }
      },
      "source": [
        "onlre[onlre['Quantity'] < 0]"
      ],
      "execution_count": 8,
      "outputs": [
        {
          "output_type": "execute_result",
          "data": {
            "text/html": [
              "<div>\n",
              "<style scoped>\n",
              "    .dataframe tbody tr th:only-of-type {\n",
              "        vertical-align: middle;\n",
              "    }\n",
              "\n",
              "    .dataframe tbody tr th {\n",
              "        vertical-align: top;\n",
              "    }\n",
              "\n",
              "    .dataframe thead th {\n",
              "        text-align: right;\n",
              "    }\n",
              "</style>\n",
              "<table border=\"1\" class=\"dataframe\">\n",
              "  <thead>\n",
              "    <tr style=\"text-align: right;\">\n",
              "      <th></th>\n",
              "      <th>InvoiceNo</th>\n",
              "      <th>StockCode</th>\n",
              "      <th>Description</th>\n",
              "      <th>Quantity</th>\n",
              "      <th>InvoiceDate</th>\n",
              "      <th>UnitPrice</th>\n",
              "      <th>CustomerID</th>\n",
              "      <th>Country</th>\n",
              "    </tr>\n",
              "  </thead>\n",
              "  <tbody>\n",
              "  </tbody>\n",
              "</table>\n",
              "</div>"
            ],
            "text/plain": [
              "Empty DataFrame\n",
              "Columns: [InvoiceNo, StockCode, Description, Quantity, InvoiceDate, UnitPrice, CustomerID, Country]\n",
              "Index: []"
            ]
          },
          "metadata": {
            "tags": []
          },
          "execution_count": 8
        }
      ]
    },
    {
      "cell_type": "markdown",
      "metadata": {
        "id": "s5idc5z2H1zJ",
        "colab_type": "text"
      },
      "source": [
        "**Exclude negative Price entries**"
      ]
    },
    {
      "cell_type": "code",
      "metadata": {
        "id": "_8OdtEVFH1fr",
        "colab_type": "code",
        "colab": {}
      },
      "source": [
        "onlre = onlre.drop(index=(onlre[onlre['UnitPrice'] < 0]).index)"
      ],
      "execution_count": 0,
      "outputs": []
    },
    {
      "cell_type": "markdown",
      "metadata": {
        "id": "Ikd1t-v3Pm17",
        "colab_type": "text"
      },
      "source": [
        "### Step 3 - EDA"
      ]
    },
    {
      "cell_type": "markdown",
      "metadata": {
        "id": "-T3iojz1If_r",
        "colab_type": "text"
      },
      "source": [
        "**The customer with the highest number of orders comes from the United Kingdom (UK)**"
      ]
    },
    {
      "cell_type": "code",
      "metadata": {
        "id": "qIUoWtlPIhxJ",
        "colab_type": "code",
        "colab": {
          "base_uri": "https://localhost:8080/",
          "height": 77
        },
        "outputId": "a49ce0c9-6fa8-48e4-ec18-5a3a65c667a5"
      },
      "source": [
        "# Your code here\n",
        "onlre[onlre['Country']=='United Kingdom'].sort_values(by='Quantity', ascending = False).head(1)"
      ],
      "execution_count": 22,
      "outputs": [
        {
          "output_type": "execute_result",
          "data": {
            "text/html": [
              "<div>\n",
              "<style scoped>\n",
              "    .dataframe tbody tr th:only-of-type {\n",
              "        vertical-align: middle;\n",
              "    }\n",
              "\n",
              "    .dataframe tbody tr th {\n",
              "        vertical-align: top;\n",
              "    }\n",
              "\n",
              "    .dataframe thead th {\n",
              "        text-align: right;\n",
              "    }\n",
              "</style>\n",
              "<table border=\"1\" class=\"dataframe\">\n",
              "  <thead>\n",
              "    <tr style=\"text-align: right;\">\n",
              "      <th></th>\n",
              "      <th>InvoiceNo</th>\n",
              "      <th>StockCode</th>\n",
              "      <th>Description</th>\n",
              "      <th>Quantity</th>\n",
              "      <th>InvoiceDate</th>\n",
              "      <th>UnitPrice</th>\n",
              "      <th>CustomerID</th>\n",
              "      <th>Country</th>\n",
              "    </tr>\n",
              "  </thead>\n",
              "  <tbody>\n",
              "    <tr>\n",
              "      <th>540421</th>\n",
              "      <td>581483</td>\n",
              "      <td>23843</td>\n",
              "      <td>PAPER CRAFT , LITTLE BIRDIE</td>\n",
              "      <td>80995</td>\n",
              "      <td>12/9/11 9:15</td>\n",
              "      <td>2.08</td>\n",
              "      <td>16446.0</td>\n",
              "      <td>United Kingdom</td>\n",
              "    </tr>\n",
              "  </tbody>\n",
              "</table>\n",
              "</div>"
            ],
            "text/plain": [
              "       InvoiceNo StockCode  ... CustomerID         Country\n",
              "540421    581483     23843  ...    16446.0  United Kingdom\n",
              "\n",
              "[1 rows x 8 columns]"
            ]
          },
          "metadata": {
            "tags": []
          },
          "execution_count": 22
        }
      ]
    },
    {
      "cell_type": "markdown",
      "metadata": {
        "id": "9yUfXWelIiTg",
        "colab_type": "text"
      },
      "source": [
        "**The customer with the highest money spent on purchases comes from Netherlands**"
      ]
    },
    {
      "cell_type": "code",
      "metadata": {
        "id": "qCN_rIThJDRj",
        "colab_type": "code",
        "colab": {
          "base_uri": "https://localhost:8080/",
          "height": 77
        },
        "outputId": "5d1e870c-7215-4b03-8115-86417fcec2fd"
      },
      "source": [
        "# Your code here\n",
        "onlre[onlre['Country']=='Netherlands'].sort_values(by='UnitPrice', ascending = False).head(1)"
      ],
      "execution_count": 21,
      "outputs": [
        {
          "output_type": "execute_result",
          "data": {
            "text/html": [
              "<div>\n",
              "<style scoped>\n",
              "    .dataframe tbody tr th:only-of-type {\n",
              "        vertical-align: middle;\n",
              "    }\n",
              "\n",
              "    .dataframe tbody tr th {\n",
              "        vertical-align: top;\n",
              "    }\n",
              "\n",
              "    .dataframe thead th {\n",
              "        text-align: right;\n",
              "    }\n",
              "</style>\n",
              "<table border=\"1\" class=\"dataframe\">\n",
              "  <thead>\n",
              "    <tr style=\"text-align: right;\">\n",
              "      <th></th>\n",
              "      <th>InvoiceNo</th>\n",
              "      <th>StockCode</th>\n",
              "      <th>Description</th>\n",
              "      <th>Quantity</th>\n",
              "      <th>InvoiceDate</th>\n",
              "      <th>UnitPrice</th>\n",
              "      <th>CustomerID</th>\n",
              "      <th>Country</th>\n",
              "    </tr>\n",
              "  </thead>\n",
              "  <tbody>\n",
              "    <tr>\n",
              "      <th>338448</th>\n",
              "      <td>566557</td>\n",
              "      <td>22823</td>\n",
              "      <td>CHEST NATURAL WOOD 20 DRAWERS</td>\n",
              "      <td>2</td>\n",
              "      <td>9/13/11 11:47</td>\n",
              "      <td>110.0</td>\n",
              "      <td>14646.0</td>\n",
              "      <td>Netherlands</td>\n",
              "    </tr>\n",
              "  </tbody>\n",
              "</table>\n",
              "</div>"
            ],
            "text/plain": [
              "       InvoiceNo StockCode  ... CustomerID      Country\n",
              "338448    566557     22823  ...    14646.0  Netherlands\n",
              "\n",
              "[1 rows x 8 columns]"
            ]
          },
          "metadata": {
            "tags": []
          },
          "execution_count": 21
        }
      ]
    },
    {
      "cell_type": "markdown",
      "metadata": {
        "id": "UcCxS85hIwLb",
        "colab_type": "text"
      },
      "source": [
        "**On which year had the highest sales?**"
      ]
    },
    {
      "cell_type": "code",
      "metadata": {
        "id": "i-7RsisUI_gc",
        "colab_type": "code",
        "colab": {}
      },
      "source": [
        "# Your code here"
      ],
      "execution_count": 0,
      "outputs": []
    },
    {
      "cell_type": "markdown",
      "metadata": {
        "id": "W-IKvzruKHXb",
        "colab_type": "text"
      },
      "source": [
        "**How many orders (per hour)?**"
      ]
    },
    {
      "cell_type": "code",
      "metadata": {
        "id": "RHS5ridWKQ4u",
        "colab_type": "code",
        "colab": {}
      },
      "source": [
        ""
      ],
      "execution_count": 0,
      "outputs": []
    },
    {
      "cell_type": "markdown",
      "metadata": {
        "id": "dqCZUmx0KKfS",
        "colab_type": "text"
      },
      "source": [
        "**Make a plot about number of orders per hour**"
      ]
    },
    {
      "cell_type": "code",
      "metadata": {
        "id": "-KPgD51AKKE6",
        "colab_type": "code",
        "colab": {}
      },
      "source": [
        ""
      ],
      "execution_count": 0,
      "outputs": []
    },
    {
      "cell_type": "markdown",
      "metadata": {
        "colab_type": "text",
        "id": "-8ZwTvS6L0vS"
      },
      "source": [
        "**How many orders (per month)?**"
      ]
    },
    {
      "cell_type": "code",
      "metadata": {
        "colab_type": "code",
        "id": "NeOp_6a3L0vX",
        "colab": {}
      },
      "source": [
        ""
      ],
      "execution_count": 0,
      "outputs": []
    },
    {
      "cell_type": "markdown",
      "metadata": {
        "colab_type": "text",
        "id": "sOYrMUczL0vb"
      },
      "source": [
        "**Make a plot about number of orders per month**"
      ]
    },
    {
      "cell_type": "code",
      "metadata": {
        "id": "e7RJQ5MbL4cY",
        "colab_type": "code",
        "colab": {}
      },
      "source": [
        ""
      ],
      "execution_count": 0,
      "outputs": []
    },
    {
      "cell_type": "markdown",
      "metadata": {
        "id": "E3eeyQeBLd6e",
        "colab_type": "text"
      },
      "source": [
        "**Top 10 items most sales**"
      ]
    },
    {
      "cell_type": "code",
      "metadata": {
        "id": "4trjB9ZjLhEv",
        "colab_type": "code",
        "colab": {}
      },
      "source": [
        ""
      ],
      "execution_count": 0,
      "outputs": []
    },
    {
      "cell_type": "markdown",
      "metadata": {
        "id": "ggak_TMtLh5o",
        "colab_type": "text"
      },
      "source": [
        ""
      ]
    },
    {
      "cell_type": "markdown",
      "metadata": {
        "id": "-dEBLw1uPm1-",
        "colab_type": "text"
      },
      "source": [
        "**Create a histogram with the 10 countries that have the most 'Quantity' ordered except UK**"
      ]
    },
    {
      "cell_type": "code",
      "metadata": {
        "id": "_N-UF331Pm1-",
        "colab_type": "code",
        "colab": {}
      },
      "source": [
        "# Your code here\n",
        "\n",
        "# What can you tell about this?"
      ],
      "execution_count": 0,
      "outputs": []
    },
    {
      "cell_type": "markdown",
      "metadata": {
        "id": "MoBgPjDiwhdV",
        "colab_type": "text"
      },
      "source": [
        "### You are awesome!!"
      ]
    }
  ]
}