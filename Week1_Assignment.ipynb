{
 "cells": [
  {
   "cell_type": "markdown",
   "metadata": {},
   "source": [
    "### Python\n",
    "#### Problem 1: Print Hello Worlds\n",
    "The above code will print Hello, World! on your screen. Try it yourself in the editor below!\n",
    "\n",
    "Input Format\n",
    "\n",
    "You do not need to read any input in this challenge.\n",
    "\n",
    "Output Format\n",
    "\n",
    "Print Hello, World! to stdout."
   ]
  },
  {
   "cell_type": "code",
   "execution_count": null,
   "metadata": {},
   "outputs": [],
   "source": [
    "if __name__ == '__main__':\n",
    "    print \"Hello, World!\""
   ]
  },
  {
   "cell_type": "markdown",
   "metadata": {},
   "source": [
    "#### Problem 2: Arithmetic Operators\n",
    "Read two integers from STDIN and print three lines where:\n",
    "\n",
    "1. The first line contains the sum of the two numbers.\n",
    "2. The second line contains the difference of the two numbers (first - second).\n",
    "3. The third line contains the product of the two numbers.\n",
    "Input Format\n",
    "\n",
    "The first line contains the first integer,a. The second line contains the second integer,b.\n",
    "\n",
    "Constraints\n",
    "1 <= a <= 10^10\n",
    "1 <= b <= 10^10\n",
    "\n",
    " \n",
    "\n",
    "Output Format\n",
    "\n",
    "Print the three lines as explained above.\n"
   ]
  },
  {
   "cell_type": "code",
   "execution_count": 1,
   "metadata": {},
   "outputs": [
    {
     "name": "stdout",
     "output_type": "stream",
     "text": [
      "1\n",
      "2\n",
      "3\n",
      "-1\n",
      "2\n"
     ]
    }
   ],
   "source": [
    "if __name__ == '__main__':\n",
    "    a = int(input())\n",
    "    b = int(input())\n",
    "    print (a+b)\n",
    "    print (a-b)\n",
    "    print (a*b)"
   ]
  },
  {
   "cell_type": "markdown",
   "metadata": {},
   "source": [
    "#### Problem 3:  Division\n",
    "\n",
    "Task \n",
    "Read two integers and print two lines. The first line should contain integer division, a//b. The second line should contain float division, a/b.\n",
    "\n",
    "You don't need to perform any rounding or formatting operations.\n",
    "\n",
    "Input Format\n",
    "\n",
    "The first line contains the first integer,a. The second line contains the second integer,b.\n",
    "\n",
    "Output Format\n",
    "\n",
    "Print the two lines as described above."
   ]
  },
  {
   "cell_type": "code",
   "execution_count": null,
   "metadata": {},
   "outputs": [],
   "source": [
    "if __name__ == '__main__':\n",
    "    a = int(input())\n",
    "    b = int(input())\n",
    "    print(a//b)\n",
    "    print(a/b)"
   ]
  },
  {
   "cell_type": "markdown",
   "metadata": {},
   "source": [
    "#### Problem 4: Loops\n",
    "Task \n",
    "Read an integer N. For all non-negative integers i<N, print i^2.See the sample for details.\n",
    "\n",
    "Input Format\n",
    "\n",
    "The first and only line contains the integer,N.\n",
    "\n",
    "Constraints\n",
    "1<=N<=20\n",
    "Output Format\n",
    "\n",
    "Print N lines, one corresponding to each i."
   ]
  },
  {
   "cell_type": "code",
   "execution_count": null,
   "metadata": {},
   "outputs": [],
   "source": [
    "if __name__ == '__main__':\n",
    "    n = int(input())\n",
    "    for i in range (n):\n",
    "        print(i*i)\n"
   ]
  },
  {
   "cell_type": "markdown",
   "metadata": {},
   "source": [
    "#### Problem 5: Print Function\n",
    "Read an integer N.\n",
    "\n",
    "Without using any string methods, try to print the following:\n",
    "123....N\n",
    "\n",
    "Note that \"...\" represents the values in between.\n",
    "\n",
    "Input Format\n",
    "\n",
    "The first line contains an integer N.\n",
    "\n",
    "Output Format\n",
    "\n",
    "Output the answer as explained in the task."
   ]
  },
  {
   "cell_type": "code",
   "execution_count": null,
   "metadata": {},
   "outputs": [],
   "source": [
    "if __name__ == '__main__':\n",
    "    n = int(input())\n",
    "    print(*range(1, n + 1), sep=\"\") "
   ]
  },
  {
   "cell_type": "markdown",
   "metadata": {},
   "source": [
    "### SQL\n",
    "CITY\n",
    "\n",
    "Field | Type\n",
    "------------ | ------------\n",
    "ID | NAME\n",
    "NAME | VARCHAR2(17)\n",
    "COUNTRYCODE | VARCHAR2(3)\n",
    "DISTRICT | VARCHAR2(20)\n",
    "POPULATION | NUMBER"
   ]
  },
  {
   "cell_type": "markdown",
   "metadata": {},
   "source": [
    "#### Problem 1: Revising the Select Query II\n",
    "Query the names of all American cities in CITY with populations larger than 120000. The CountryCode for America is USA."
   ]
  },
  {
   "cell_type": "code",
   "execution_count": null,
   "metadata": {},
   "outputs": [],
   "source": [
    "SELECT NAME FROM CITY WHERE POPULATION > 120000 and COUNTRYCODE = \"USA\""
   ]
  },
  {
   "cell_type": "markdown",
   "metadata": {},
   "source": [
    "#### Problem2: Select All\n",
    "Query all columns (attributes) for every row in the CITY table."
   ]
  },
  {
   "cell_type": "code",
   "execution_count": null,
   "metadata": {},
   "outputs": [],
   "source": [
    "SELECT * FROM CITY"
   ]
  },
  {
   "cell_type": "markdown",
   "metadata": {},
   "source": [
    "#### Problem 3: Select By ID\n",
    "Query all columns for a city in CITY with the ID 1661."
   ]
  },
  {
   "cell_type": "code",
   "execution_count": null,
   "metadata": {},
   "outputs": [],
   "source": [
    "SELECT * FROM CITY WHERE ID = 1661"
   ]
  },
  {
   "cell_type": "markdown",
   "metadata": {},
   "source": [
    "#### Problem 4: Japanese Cities' Attributes\n",
    "Query all attributes of every Japanese city in the CITY table. The COUNTRYCODE for Japan is JPN.\n"
   ]
  },
  {
   "cell_type": "code",
   "execution_count": null,
   "metadata": {},
   "outputs": [],
   "source": [
    "SELECT * FROM CITY WHERE COUNTRYCODE = \"JPN\""
   ]
  },
  {
   "cell_type": "markdown",
   "metadata": {},
   "source": [
    "#### Problem 5: Japanese Cities' Names\n",
    "Query the names of all the Japanese cities in the CITY table. The COUNTRYCODE for Japan is JPN."
   ]
  },
  {
   "cell_type": "code",
   "execution_count": null,
   "metadata": {},
   "outputs": [],
   "source": [
    "SELECT NAME FROM CITY WHERE COUNTRYCODE = \"JPN\""
   ]
  },
  {
   "cell_type": "markdown",
   "metadata": {},
   "source": [
    "CITY\n",
    "\n",
    "Field | Type\n",
    "------------ | ------------\n",
    "ID | NUMBER\n",
    "CITY | VARCHAR2(21)\n",
    "STATE | VARCHAR2(2)\n",
    "LAT_N | NUMBER\n",
    "LONG_W | NUMBER"
   ]
  },
  {
   "cell_type": "markdown",
   "metadata": {},
   "source": [
    "#### Problem 6: Weather Observation Station 1\n",
    "Query a list of CITY and STATE from the STATION table."
   ]
  },
  {
   "cell_type": "code",
   "execution_count": null,
   "metadata": {},
   "outputs": [],
   "source": [
    "SELECT CITY, STATE\n",
    "FROM STATION"
   ]
  },
  {
   "cell_type": "markdown",
   "metadata": {},
   "source": [
    "#### Problem 7: Weather Observation Station 3\n",
    "Query a list of CITY names from STATION with even ID numbers only. You may print the results in any order, but must exclude duplicates from your answer."
   ]
  },
  {
   "cell_type": "code",
   "execution_count": null,
   "metadata": {},
   "outputs": [],
   "source": [
    "SELECT DISTINCT CITY FROM STATION WHERE ID % 2 = 0 ORDER BY CITY ASC"
   ]
  },
  {
   "cell_type": "markdown",
   "metadata": {},
   "source": [
    "#### Problem 8: Weather Observation Station 4\n",
    "Let N be the number of CITY entries in STATION, and let N' be the number of distinct CITY names in STATION; query the value of N - N' from STATION. In other words, find the difference between the total number of CITY entries in the table and the number of distinct CITY entries in the table."
   ]
  },
  {
   "cell_type": "code",
   "execution_count": null,
   "metadata": {},
   "outputs": [],
   "source": [
    "SELECT COUNT(CITY) - COUNT(DISTINCT CITY) FROM STATION"
   ]
  },
  {
   "cell_type": "markdown",
   "metadata": {},
   "source": [
    "#### Problem 9: Weather Observation Station 5\n",
    "Query the two cities in STATION with the shortest and longest CITY names, as well as their respective lengths (i.e.: number of characters in the name). If there is more than one smallest or largest city, choose the one that comes first when ordered alphabetically."
   ]
  },
  {
   "cell_type": "code",
   "execution_count": null,
   "metadata": {},
   "outputs": [],
   "source": [
    "SELECT CITY, LENGTH(CITY) FROM STATION ORDER BY LENGTH(CITY) ASC , CITY ASC LIMIT 1;\n",
    "SELECT CITY, LENGTH(CITY) FROM STATION ORDER BY LENGTH(CITY) DESC , CITY DESC LIMIT 1;"
   ]
  },
  {
   "cell_type": "markdown",
   "metadata": {},
   "source": [
    "#### Problem 10: Weather Observation Station 6\n",
    "Query the list of CITY names starting with vowels (i.e., a, e, i, o, or u) from STATION. Your result cannot contain duplicates."
   ]
  },
  {
   "cell_type": "code",
   "execution_count": null,
   "metadata": {},
   "outputs": [],
   "source": [
    "SELECT DISTINCT CITY FROM STATION WHERE SUBSTRING(CITY,1,1) IN (\"I\",\"E\",\"A\",\"O\",\"U\")"
   ]
  }
 ],
 "metadata": {
  "kernelspec": {
   "display_name": "Python 3",
   "language": "python",
   "name": "python3"
  },
  "language_info": {
   "codemirror_mode": {
    "name": "ipython",
    "version": 3
   },
   "file_extension": ".py",
   "mimetype": "text/x-python",
   "name": "python",
   "nbconvert_exporter": "python",
   "pygments_lexer": "ipython3",
   "version": "3.7.3"
  }
 },
 "nbformat": 4,
 "nbformat_minor": 2
}
